{
 "cells": [
  {
   "cell_type": "markdown",
   "metadata": {},
   "source": [
    "## Web layer clone\n",
    "\n",
    "Before using the script:\n",
    "1. In Section 1, add username, password, and AGO URL to gis2.  This demo assumes the source is publicly available. If the web layer you want to clone is not publicly shared, enter info for gis1 as well.\n",
    "2. In Section 2, change the query id (about second code line) to point to your web layer or web map or web application of choice. \n"
   ]
  },
  {
   "cell_type": "code",
   "execution_count": 1,
   "metadata": {},
   "outputs": [
    {
     "name": "stdout",
     "output_type": "stream",
     "text": [
      "started.\n",
      "Successfully copied the items\n"
     ]
    }
   ],
   "source": [
    "# SECTION 1\n",
    "# ------------------------------------------------------------------------\n",
    "from arcgis.gis import GIS, Item\n",
    "\n",
    "gis1 = GIS(\"https://arcgis.com\")\n",
    "gis2 = GIS(\"https://esriedudemo.maps.arcgis.com\", \"username\",\"password\")\n",
    "\n",
    "#SECTION 2\n",
    "# ------------------------------------------------------------------------\n",
    "print(\"started.\")\n",
    "items = gis1.content.search(query=\"id:0337028a68f74a31b84721786ce65235\")\n",
    "gis2.content.clone_items(items,\n",
    "                     folder='Cloned',\n",
    "                     item_extent=None,\n",
    "                     use_org_basemap=False,\n",
    "                     copy_data=True,\n",
    "                     search_existing_items=False,\n",
    "                     item_mapping=None,\n",
    "                     group_mapping=None)\n",
    "\n",
    "#SECTION 3\n",
    "# ------------------------------------------------------------------------\n",
    "print(\"Successfully copied the item.\")"
   ]
  },
  {
   "cell_type": "code",
   "execution_count": null,
   "metadata": {},
   "outputs": [],
   "source": []
  }
 ],
 "metadata": {
  "esriNotebookRuntime": {
   "notebookRuntimeName": "ArcGIS Notebook Python 3 Standard",
   "notebookRuntimeVersion": "4.0"
  },
  "kernelspec": {
   "display_name": "Python 3",
   "language": "python",
   "name": "python3"
  },
  "language_info": {
   "codemirror_mode": {
    "name": "ipython",
    "version": 3
   },
   "file_extension": ".py",
   "mimetype": "text/x-python",
   "name": "python",
   "nbconvert_exporter": "python",
   "pygments_lexer": "ipython3",
   "version": "3.6.10"
  }
 },
 "nbformat": 4,
 "nbformat_minor": 2
}
