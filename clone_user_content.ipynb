{
 "cells": [
  {
   "cell_type": "markdown",
   "metadata": {},
   "source": [
    "## Clone a user's content (except new story maps and map or image services)\n",
    "\n",
    "Before running the script:\n",
    "1. Add usernames/passwords (2 sets) in Section 1.\n",
    "2. Replace \"STUDENT-A\" with the username of the SOURCE.\n"
   ]
  },
  {
   "cell_type": "code",
   "execution_count": null,
   "metadata": {},
   "outputs": [],
   "source": [
    "#SECTION 1\n",
    "from arcgis.gis import GIS, Item\n",
    "\n",
    "# ---------------------------------------\n",
    "#SECTION 2\n",
    "\n",
    "sourceGIS = GIS(\"https://<your-AGO>.maps.arcgis.com\", \"username\",\"password\")\n",
    "targetGIS = GIS(\"https://<your-AGO>.maps.arcgis.com\", \"username\",\"password\")\n",
    "\n",
    "# ---------------------------------------\n",
    "#SECTION 3\n",
    "\n",
    "print('starting')\n",
    "print('--'\n",
    "     )\n",
    "all_content = sourceGIS.content.search(\"owner:STUDENT-A\")\n",
    "all_content\n",
    "print(all_content)\n",
    "print('--')\n",
    "cloned_items = targetGIS.content.clone_items(\n",
    "        items=all_content,\n",
    "        folder='Cloned', \n",
    "        owner='cargoBay2',\n",
    "        copy_data=True,\n",
    "        search_existing_items=True,\n",
    "        item_mapping=None)\n",
    "\n",
    "\n",
    "cloned_items\n",
    "\n",
    "print('COMPLETE. ',len(all_content), ' items should have cloned. This count may not include all dependencies.')\n"
   ]
  },
  {
   "cell_type": "code",
   "execution_count": null,
   "metadata": {},
   "outputs": [],
   "source": []
  }
 ],
 "metadata": {
  "esriNotebookRuntime": {
   "notebookRuntimeName": "ArcGIS Notebook Python 3 Standard",
   "notebookRuntimeVersion": "4.0"
  },
  "kernelspec": {
   "display_name": "Python 3",
   "language": "python",
   "name": "python3"
  },
  "language_info": {
   "codemirror_mode": {
    "name": "ipython",
    "version": 3
   },
   "file_extension": ".py",
   "mimetype": "text/x-python",
   "name": "python",
   "nbconvert_exporter": "python",
   "pygments_lexer": "ipython3",
   "version": "3.6.10"
  }
 },
 "nbformat": 4,
 "nbformat_minor": 2
}
